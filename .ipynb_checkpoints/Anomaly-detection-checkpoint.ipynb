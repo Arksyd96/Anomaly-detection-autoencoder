{
 "cells": [
  {
   "cell_type": "markdown",
   "metadata": {},
   "source": [
    "# **Imports:**"
   ]
  },
  {
   "cell_type": "code",
   "execution_count": 51,
   "metadata": {},
   "outputs": [
    {
     "name": "stdout",
     "output_type": "stream",
     "text": [
      "imported\n"
     ]
    }
   ],
   "source": [
    "import tensorflow.keras.backend as K\n",
    "from tensorflow.keras.layers import BatchNormalization\n",
    "from tensorflow.keras.layers import Conv2D\n",
    "from tensorflow.keras.layers import Conv2DTranspose\n",
    "from tensorflow.keras.layers import Flatten\n",
    "from tensorflow.keras.layers import Dense\n",
    "from tensorflow.keras.models import Model\n",
    "from tensorflow.keras.layers import Input\n",
    "from tensorflow.keras.layers import Reshape\n",
    "from tensorflow.keras.layers import LeakyReLU\n",
    "from tensorflow.keras.layers import DepthwiseConv2D\n",
    "from tensorflow.keras.layers import ZeroPadding2D\n",
    "from tensorflow.keras.layers import Cropping2D\n",
    "from tensorflow.keras.optimizers import Adam\n",
    "from tensorflow.keras.datasets import mnist\n",
    "from sklearn.model_selection import train_test_split\n",
    "import matplotlib.pyplot as plt\n",
    "from PIL import Image\n",
    "import numpy as np\n",
    "import random\n",
    "import math\n",
    "\n",
    "print('imported')"
   ]
  },
  {
   "cell_type": "markdown",
   "metadata": {},
   "source": [
    "# **Creating encoder:**\n",
    "#### (I use depthwise convolution for a lighter model)"
   ]
  },
  {
   "cell_type": "code",
   "execution_count": 52,
   "metadata": {},
   "outputs": [
    {
     "name": "stdout",
     "output_type": "stream",
     "text": [
      "Model: \"encoder\"\n",
      "_________________________________________________________________\n",
      "Layer (type)                 Output Shape              Param #   \n",
      "=================================================================\n",
      "input_25 (InputLayer)        [(None, 28, 28, 1)]       0         \n",
      "_________________________________________________________________\n",
      "zero_padding2d_10 (ZeroPaddi (None, 32, 32, 1)         0         \n",
      "_________________________________________________________________\n",
      "conv2d_35 (Conv2D)           (None, 16, 16, 32)        320       \n",
      "_________________________________________________________________\n",
      "batch_normalization_65 (Batc (None, 16, 16, 32)        128       \n",
      "_________________________________________________________________\n",
      "leaky_re_lu_65 (LeakyReLU)   (None, 16, 16, 32)        0         \n",
      "_________________________________________________________________\n",
      "depthwise_conv2d_17 (Depthwi (None, 8, 8, 32)          320       \n",
      "_________________________________________________________________\n",
      "batch_normalization_66 (Batc (None, 8, 8, 32)          128       \n",
      "_________________________________________________________________\n",
      "leaky_re_lu_66 (LeakyReLU)   (None, 8, 8, 32)          0         \n",
      "_________________________________________________________________\n",
      "conv2d_36 (Conv2D)           (None, 4, 4, 64)          18496     \n",
      "_________________________________________________________________\n",
      "batch_normalization_67 (Batc (None, 4, 4, 64)          256       \n",
      "_________________________________________________________________\n",
      "leaky_re_lu_67 (LeakyReLU)   (None, 4, 4, 64)          0         \n",
      "_________________________________________________________________\n",
      "flatten_17 (Flatten)         (None, 1024)              0         \n",
      "_________________________________________________________________\n",
      "dense_22 (Dense)             (None, 512)               524800    \n",
      "=================================================================\n",
      "Total params: 544,448\n",
      "Trainable params: 544,192\n",
      "Non-trainable params: 256\n",
      "_________________________________________________________________\n"
     ]
    }
   ],
   "source": [
    "latentDim = 512\n",
    "\n",
    "encoderInput = Input(shape=(28, 28, 1))\n",
    "X = ZeroPadding2D(2)(encoderInput)\n",
    "\n",
    "X = Conv2D(32, (3, 3), strides=2, padding=\"same\")(X)\n",
    "X = BatchNormalization(axis=-1)(X)\n",
    "X = LeakyReLU(alpha=0.3)(X)\n",
    "\n",
    "X = DepthwiseConv2D((3, 3), strides=2, padding=\"same\")(X)\n",
    "X = BatchNormalization(axis=-1)(X)\n",
    "X = LeakyReLU(alpha=0.3)(X)\n",
    "\n",
    "X = Conv2D(64, (3, 3), strides=2, padding=\"same\")(X)\n",
    "X = BatchNormalization(axis=-1)(X)\n",
    "X = LeakyReLU(alpha=0.3)(X) \n",
    "\n",
    "volumeSize = K.int_shape(X)\n",
    "X = Flatten()(X)\n",
    "X = Dense(latentDim)(X)\n",
    "\n",
    "encoder = Model(encoderInput, X, name=\"encoder\")\n",
    "encoder.summary()"
   ]
  },
  {
   "cell_type": "markdown",
   "metadata": {},
   "source": [
    "# **Creating decoder:**\n"
   ]
  },
  {
   "cell_type": "code",
   "execution_count": 53,
   "metadata": {},
   "outputs": [
    {
     "name": "stdout",
     "output_type": "stream",
     "text": [
      "Model: \"decoder\"\n",
      "_________________________________________________________________\n",
      "Layer (type)                 Output Shape              Param #   \n",
      "=================================================================\n",
      "input_26 (InputLayer)        [(None, 512)]             0         \n",
      "_________________________________________________________________\n",
      "dense_23 (Dense)             (None, 1024)              525312    \n",
      "_________________________________________________________________\n",
      "reshape_5 (Reshape)          (None, 4, 4, 64)          0         \n",
      "_________________________________________________________________\n",
      "conv2d_transpose_18 (Conv2DT (None, 8, 8, 64)          36928     \n",
      "_________________________________________________________________\n",
      "batch_normalization_68 (Batc (None, 8, 8, 64)          256       \n",
      "_________________________________________________________________\n",
      "leaky_re_lu_68 (LeakyReLU)   (None, 8, 8, 64)          0         \n",
      "_________________________________________________________________\n",
      "conv2d_transpose_19 (Conv2DT (None, 16, 16, 32)        18464     \n",
      "_________________________________________________________________\n",
      "batch_normalization_69 (Batc (None, 16, 16, 32)        128       \n",
      "_________________________________________________________________\n",
      "leaky_re_lu_69 (LeakyReLU)   (None, 16, 16, 32)        0         \n",
      "_________________________________________________________________\n",
      "conv2d_transpose_20 (Conv2DT (None, 32, 32, 32)        9248      \n",
      "_________________________________________________________________\n",
      "batch_normalization_70 (Batc (None, 32, 32, 32)        128       \n",
      "_________________________________________________________________\n",
      "leaky_re_lu_70 (LeakyReLU)   (None, 32, 32, 32)        0         \n",
      "_________________________________________________________________\n",
      "cropping2d_1 (Cropping2D)    (None, 28, 28, 32)        0         \n",
      "_________________________________________________________________\n",
      "conv2d_transpose_21 (Conv2DT (None, 28, 28, 1)         289       \n",
      "=================================================================\n",
      "Total params: 590,753\n",
      "Trainable params: 590,497\n",
      "Non-trainable params: 256\n",
      "_________________________________________________________________\n"
     ]
    }
   ],
   "source": [
    "decoderInput = Input(shape=(latentDim,))\n",
    "X = Dense(np.prod(volumeSize[1:]))(decoderInput)\n",
    "X = Reshape((volumeSize[1], volumeSize[2], volumeSize[3]))(X)\n",
    "\n",
    "X = Conv2DTranspose(64, (3, 3), strides=2, padding=\"same\")(X)\n",
    "X = BatchNormalization(axis=-1)(X)\n",
    "X = LeakyReLU(alpha=0.3)(X)\n",
    "\n",
    "X = Conv2DTranspose(32, (3, 3), strides=2, padding=\"same\")(X)\n",
    "X = BatchNormalization(axis=-1)(X)\n",
    "X = LeakyReLU(alpha=0.3)(X)\n",
    "\n",
    "X = Conv2DTranspose(32, (3, 3), strides=2, padding=\"same\")(X)\n",
    "X = BatchNormalization(axis=-1)(X)\n",
    "X = LeakyReLU(alpha=0.3)(X)\n",
    "\n",
    "X = Cropping2D(2)(X)\n",
    "X = Conv2DTranspose(1, (3, 3), padding=\"same\", activation=\"sigmoid\")(X)\n",
    "\n",
    "decoder = Model(decoderInput, X, name=\"decoder\")\n",
    "decoder.summary()"
   ]
  },
  {
   "cell_type": "markdown",
   "metadata": {},
   "source": [
    "# **Autoencoder:**"
   ]
  },
  {
   "cell_type": "code",
   "execution_count": 54,
   "metadata": {
    "scrolled": true
   },
   "outputs": [
    {
     "name": "stdout",
     "output_type": "stream",
     "text": [
      "Model: \"autoencoder\"\n",
      "_________________________________________________________________\n",
      "Layer (type)                 Output Shape              Param #   \n",
      "=================================================================\n",
      "input_25 (InputLayer)        [(None, 28, 28, 1)]       0         \n",
      "_________________________________________________________________\n",
      "encoder (Model)              (None, 512)               544448    \n",
      "_________________________________________________________________\n",
      "decoder (Model)              (None, 28, 28, 1)         590753    \n",
      "=================================================================\n",
      "Total params: 1,135,201\n",
      "Trainable params: 1,134,689\n",
      "Non-trainable params: 512\n",
      "_________________________________________________________________\n"
     ]
    }
   ],
   "source": [
    "autoencoder = Model(encoderInput, decoder(encoder(encoderInput)), name=\"autoencoder\")\n",
    "autoencoder.summary()"
   ]
  },
  {
   "cell_type": "markdown",
   "metadata": {},
   "source": [
    "# **Preparing data:**\n",
    "#### We take 0 images as anomalies"
   ]
  },
  {
   "cell_type": "code",
   "execution_count": 55,
   "metadata": {},
   "outputs": [],
   "source": [
    "(x_train, y_train), (x_test, y_test) = mnist.load_data()\n",
    "x_train = np.expand_dims(x_train, axis=-1)\n",
    "x_test  = np.expand_dims(x_test, axis=-1)\n",
    "\n",
    "x_train = x_train.astype(\"float32\") / 255.0\n",
    "x_test  = x_test.astype(\"float32\") / 255.0\n",
    "\n",
    "valideIndx = np.where(y_train != 0)[0]\n",
    "anomalyIndx = np.where(y_train == 0)[0]\n",
    "\n",
    "valideImages = x_train[valideIndx]\n",
    "anomalyImages = x_train[anomalyIndx] # for testing\n",
    "\n",
    "(trainX, testX) = train_test_split(valideImages, test_size=0.2, random_state=42)"
   ]
  },
  {
   "cell_type": "markdown",
   "metadata": {},
   "source": [
    "# **Training:**"
   ]
  },
  {
   "cell_type": "code",
   "execution_count": 56,
   "metadata": {},
   "outputs": [
    {
     "name": "stdout",
     "output_type": "stream",
     "text": [
      "Train on 43261 samples, validate on 10816 samples\n",
      "Epoch 1/20\n",
      "43261/43261 [==============================] - 23s 537us/sample - loss: 0.0247 - val_loss: 0.0166\n",
      "Epoch 2/20\n",
      "43261/43261 [==============================] - 21s 484us/sample - loss: 0.0153 - val_loss: 0.0138\n",
      "Epoch 3/20\n",
      "43261/43261 [==============================] - 21s 483us/sample - loss: 0.0136 - val_loss: 0.0128\n",
      "Epoch 4/20\n",
      "43261/43261 [==============================] - 21s 487us/sample - loss: 0.0125 - val_loss: 0.0118\n",
      "Epoch 5/20\n",
      "43261/43261 [==============================] - 20s 466us/sample - loss: 0.0117 - val_loss: 0.0113\n",
      "Epoch 6/20\n",
      "43261/43261 [==============================] - 20s 454us/sample - loss: 0.0112 - val_loss: 0.0106\n",
      "Epoch 7/20\n",
      "43261/43261 [==============================] - 21s 480us/sample - loss: 0.0107 - val_loss: 0.0104\n",
      "Epoch 8/20\n",
      "43261/43261 [==============================] - 19s 446us/sample - loss: 0.0104 - val_loss: 0.0100\n",
      "Epoch 9/20\n",
      "43261/43261 [==============================] - 20s 471us/sample - loss: 0.0101 - val_loss: 0.0098\n",
      "Epoch 10/20\n",
      "43261/43261 [==============================] - 20s 461us/sample - loss: 0.0099 - val_loss: 0.0097\n",
      "Epoch 11/20\n",
      "43261/43261 [==============================] - 19s 448us/sample - loss: 0.0097 - val_loss: 0.0096\n",
      "Epoch 12/20\n",
      "43261/43261 [==============================] - 21s 487us/sample - loss: 0.0094 - val_loss: 0.0093\n",
      "Epoch 13/20\n",
      "43261/43261 [==============================] - 21s 488us/sample - loss: 0.0092 - val_loss: 0.0092\n",
      "Epoch 14/20\n",
      "43261/43261 [==============================] - 21s 482us/sample - loss: 0.0091 - val_loss: 0.0090\n",
      "Epoch 15/20\n",
      "43261/43261 [==============================] - 21s 477us/sample - loss: 0.0089 - val_loss: 0.0088\n",
      "Epoch 16/20\n",
      "43261/43261 [==============================] - 22s 499us/sample - loss: 0.0089 - val_loss: 0.0087\n",
      "Epoch 17/20\n",
      "43261/43261 [==============================] - 21s 494us/sample - loss: 0.0087 - val_loss: 0.0086\n",
      "Epoch 18/20\n",
      "43261/43261 [==============================] - 24s 548us/sample - loss: 0.0086 - val_loss: 0.0085\n",
      "Epoch 19/20\n",
      "43261/43261 [==============================] - 21s 489us/sample - loss: 0.0085 - val_loss: 0.0084\n",
      "Epoch 20/20\n",
      "43261/43261 [==============================] - 21s 484us/sample - loss: 0.0084 - val_loss: 0.0082\n"
     ]
    }
   ],
   "source": [
    "autoencoder.compile(loss=\"mae\", optimizer=\"adam\")\n",
    "\n",
    "history = autoencoder.fit(trainX, trainX,\n",
    "               validation_data=(testX, testX),\n",
    "               epochs=20,\n",
    "               batch_size=32)"
   ]
  },
  {
   "cell_type": "markdown",
   "metadata": {},
   "source": [
    "# **Ploting:**"
   ]
  },
  {
   "cell_type": "code",
   "execution_count": 58,
   "metadata": {},
   "outputs": [
    {
     "data": {
      "text/plain": [
       "<matplotlib.legend.Legend at 0x2475e53fa20>"
      ]
     },
     "execution_count": 58,
     "metadata": {},
     "output_type": "execute_result"
    },
    {
     "data": {
      "image/png": "[encoded data removed]",
      "text/plain": [
       "<Figure size 432x288 with 1 Axes>"
      ]
     },
     "metadata": {},
     "output_type": "display_data"
    }
   ],
   "source": [
    "N = np.arange(0, 20)\n",
    "plt.style.use(\"ggplot\")\n",
    "plt.figure()\n",
    "plt.plot(N, history.history[\"loss\"], label=\"train_loss\")\n",
    "plt.plot(N, history.history[\"val_loss\"], label=\"val_loss\")\n",
    "plt.title(\"Training Loss and Accuracy\")\n",
    "plt.xlabel(\"Epoch #\")\n",
    "plt.ylabel(\"Loss/Accuracy\")\n",
    "plt.legend(loc=\"upper right\")"
   ]
  },
  {
   "cell_type": "markdown",
   "metadata": {},
   "source": [
    "# **Testing:**\n",
    "#### As we can see the model has successfully reconstructed the images"
   ]
  },
  {
   "cell_type": "code",
   "execution_count": 59,
   "metadata": {},
   "outputs": [
    {
     "data": {
      "image/png": "[encoded data removed]",
      "text/plain": [
       "<Figure size 432x288 with 10 Axes>"
      ]
     },
     "metadata": {},
     "output_type": "display_data"
    }
   ],
   "source": [
    "decoded = autoencoder.predict(x_train)\n",
    "\n",
    "for i in range(0, 10):\n",
    "    original = (x_train[i] * 255).astype(\"uint8\")\n",
    "    recon = (decoded[i] * 255).astype(\"uint8\")\n",
    "    plt.subplot(10, 1, i + 1)\n",
    "    plt.imshow(np.hstack(np.squeeze([original, recon])))\n",
    "    plt.axis(\"off\")\n",
    "plt.show()"
   ]
  },
  {
   "cell_type": "markdown",
   "metadata": {},
   "source": [
    "### We use Mean average error to calcute the average error for anomalies and valide images: \n",
    "#### As we can see, the average error on anomalies is bigger then the one on valide images, this is due to the fact that the model was not trained on images with 0\n",
    "#### I emphasize here that our results are not as good as that, with better learning and better understanding of the data we can do much better"
   ]
  },
  {
   "cell_type": "code",
   "execution_count": 60,
   "metadata": {},
   "outputs": [
    {
     "data": {
      "text/plain": [
       "0.011198539"
      ]
     },
     "execution_count": 60,
     "metadata": {},
     "output_type": "execute_result"
    }
   ],
   "source": [
    "anomalyOutputs = autoencoder.predict(anomalyImages)\n",
    "\n",
    "anomalyErrors = []\n",
    "for (image, recon) in zip(anomalyImages, anomalyOutputs):\n",
    "    mae = np.mean(np.abs(image - recon))\n",
    "    anomalyErrors.append(mae)\n",
    "    \n",
    "np.mean(anomalyErrors)"
   ]
  },
  {
   "cell_type": "code",
   "execution_count": 61,
   "metadata": {},
   "outputs": [
    {
     "data": {
      "text/plain": [
       "0.008044846"
      ]
     },
     "execution_count": 61,
     "metadata": {},
     "output_type": "execute_result"
    }
   ],
   "source": [
    "valideOutputs = autoencoder.predict(valideImages[:5923])\n",
    "1\n",
    "valideErrors = []\n",
    "for (image, recon) in zip(valideImages, valideOutputs):\n",
    "    mae = np.mean(np.abs(image - recon))\n",
    "    valideErrors.append(mae)\n",
    "    \n",
    "np.mean(valideErrors)"
   ]
  },
  {
   "cell_type": "code",
   "execution_count": 62,
   "metadata": {},
   "outputs": [
    {
     "name": "stdout",
     "output_type": "stream",
     "text": [
      "0.005169826\n",
      "0.027974505\n",
      "0.011198539\n",
      "0.0019567446\n",
      "0.02355686\n",
      "0.008044846\n"
     ]
    }
   ],
   "source": [
    "print(np.min(anomalyErrors))\n",
    "print(np.max(anomalyErrors))\n",
    "print(np.mean(anomalyErrors))\n",
    "print(np.min(valideErrors))\n",
    "print(np.max(valideErrors))\n",
    "print(np.mean(valideErrors))"
   ]
  },
  {
   "cell_type": "markdown",
   "metadata": {},
   "source": [
    "# **Final results:**\n",
    "#### I simply tested several thresholds and opted for the best but there are other methods more suitable for specifying the threshold (for example using np.quantile())"
   ]
  },
  {
   "cell_type": "code",
   "execution_count": 49,
   "metadata": {},
   "outputs": [
    {
     "name": "stdout",
     "output_type": "stream",
     "text": [
      "anomalies count:  5923  Anomalies detected:  4157\n",
      "valide images size:  5923  wrong anomalies detected:  1390\n"
     ]
    }
   ],
   "source": [
    "threshold = np.float64(0.011)\n",
    "goodPredictions = np.where(anomalyErrors >= threshold)[0]\n",
    "print(\"anomalies count: \", len(anomalyErrors), \" Anomalies detected: \", goodPredictions.size)\n",
    "\n",
    "wrongPredictions = np.where(valideErrors >= threshold)[0]\n",
    "print(\"valide images size: \", len(valideErrors), \" wrong anomalies detected: \", wrongPredictions.size)"
   ]
  },
  {
   "cell_type": "markdown",
   "metadata": {},
   "source": [
    "# **Saving model to disk:**"
   ]
  },
  {
   "cell_type": "code",
   "execution_count": null,
   "metadata": {},
   "outputs": [],
   "source": [
    "# serialize model to JSON\n",
    "model_json = autoencoder.to_json()\n",
    "with open(\"autoencoder.json\", \"w\") as json_file:\n",
    "    json_file.write(model_json)\n",
    "# serialize weights to HDF5\n",
    "autoencoder.save_weights(\"autoencoder.h5\")\n",
    "print(\"Saved model to disk\")"
   ]
  }
 ],
 "metadata": {
  "kernelspec": {
   "display_name": "Python 3",
   "language": "python",
   "name": "python3"
  },
  "language_info": {
   "codemirror_mode": {
    "name": "ipython",
    "version": 3
   },
   "file_extension": ".py",
   "mimetype": "text/x-python",
   "name": "python",
   "nbconvert_exporter": "python",
   "pygments_lexer": "ipython3",
   "version": "3.6.9"
  }
 },
 "nbformat": 4,
 "nbformat_minor": 4
}
